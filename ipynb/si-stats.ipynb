{
 "cells": [
  {
   "cell_type": "code",
   "execution_count": 2,
   "metadata": {},
   "outputs": [],
   "source": [
    "import numpy as np\n",
    "import pandas as pd\n",
    "import matplotlib.pyplot as plt\n",
    "from os import pardir, path\n",
    "import re"
   ]
  },
  {
   "cell_type": "code",
   "execution_count": 3,
   "metadata": {},
   "outputs": [],
   "source": [
    "si_df = pd.read_json(path.join(pardir, 'si-data.json'))"
   ]
  },
  {
   "cell_type": "code",
   "execution_count": 38,
   "metadata": {},
   "outputs": [
    {
     "name": "stdout",
     "output_type": "stream",
     "text": [
      "before clean have: 92\n",
      "clean have: 92\n",
      "unique clean have: 53\n"
     ]
    }
   ],
   "source": [
    "authors = list(si_df.author.unique())\n",
    "clean_authors = [a.replace( ' Authenticated user', '') if 'Authenticated user' in a else a for a in authors]\n",
    "unique_authors = list(set(clean_authors))\n",
    "print(f'before clean have: {len(authors)}')\n",
    "print(f'clean have: {len(clean_authors)}')\n",
    "print(f'unique clean have: {len(unique_authors)}')"
   ]
  },
  {
   "cell_type": "code",
   "execution_count": 81,
   "metadata": {},
   "outputs": [
    {
     "name": "stdout",
     "output_type": "stream",
     "text": [
      "['Due_n', 'Leviathan', 'Snakeeater', 'Bat _Hawk', 'Mb.', 'หนึ่ง', 'chukiat nualsri', 'Anuratana', 'Viriya', 'mister hunter', 'Portrait', 'mr.december', 'นณณ์', 'ต้ล', 'heinetonk', 'Beetle_Lover', 'aqueous_andaman', 'electron', 'Jossky', 'admin', 'popumon', 'callus', 'lepton', 'coneman', 'ตะขาบยักษ์', 'france', 'knotsnake', 'กวิวัฏ', 'Anonymous Anonymous user', 'GreenEyes', 'Paphmania', 'นกกินเปี้ยว', 'ktu', 'iDuang', 'charliev', 'j...', 'ormphipod', 'Anonymous', 'Kurozaku', 'Muscicapidae', 'หอยทากชรา', 'ไอ้ลูกทุ่ง', 'พรุ', 'ปีย์', 'arthsrn', 'สมศักดิ์', 'plains-wanderer', 'สยามอัฏฐบาท', 'RoF', 'kroolek', 'forest72', 'ZeaKoel', 'ส่องปลา']\n"
     ]
    }
   ],
   "source": [
    "print(unique_authors)"
   ]
  },
  {
   "cell_type": "code",
   "execution_count": null,
   "metadata": {},
   "outputs": [],
   "source": []
  },
  {
   "cell_type": "code",
   "execution_count": 79,
   "metadata": {},
   "outputs": [
    {
     "name": "stdout",
     "output_type": "stream",
     "text": [
      "False\n",
      "False\n",
      "False\n",
      "False\n",
      "False\n",
      "False\n",
      "False\n",
      "False\n",
      "False\n",
      "False\n",
      "False\n",
      "False\n",
      "False\n",
      "False\n",
      "False\n",
      "False\n",
      "False\n",
      "False\n",
      "False\n",
      "False\n",
      "False\n",
      "False\n",
      "False\n",
      "False\n",
      "False\n",
      "False\n",
      "False\n",
      "False\n",
      "False\n",
      "False\n",
      "False\n",
      "False\n",
      "False\n",
      "False\n",
      "False\n",
      "False\n",
      "False\n",
      "False\n",
      "False\n",
      "False\n",
      "False\n",
      "False\n",
      "False\n",
      "False\n"
     ]
    }
   ],
   "source": [
    "for ind, node in si_df[si_df['rank'] == 'Phylum'].parents.iteritems():\n",
    "    print('700' in node)\n",
    "    "
   ]
  }
 ],
 "metadata": {
  "kernelspec": {
   "display_name": "Python 3",
   "language": "python",
   "name": "python3"
  },
  "language_info": {
   "codemirror_mode": {
    "name": "ipython",
    "version": 3
   },
   "file_extension": ".py",
   "mimetype": "text/x-python",
   "name": "python",
   "nbconvert_exporter": "python",
   "pygments_lexer": "ipython3",
   "version": "3.7.2"
  }
 },
 "nbformat": 4,
 "nbformat_minor": 2
}
