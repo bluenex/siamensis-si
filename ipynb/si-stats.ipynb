{
 "cells": [
  {
   "cell_type": "code",
   "execution_count": 1,
   "metadata": {},
   "outputs": [],
   "source": [
    "import numpy as np\n",
    "import pandas as pd\n",
    "import matplotlib.pyplot as plt\n",
    "from os import pardir, path\n",
    "import re"
   ]
  },
  {
   "cell_type": "code",
   "execution_count": 2,
   "metadata": {},
   "outputs": [],
   "source": [
    "si_df = pd.read_json(path.join(pardir, 'full_si_data.json'))"
   ]
  },
  {
   "cell_type": "code",
   "execution_count": 3,
   "metadata": {},
   "outputs": [
    {
     "data": {
      "text/plain": [
       "['<p>Life taxonomy ของเรา อ้างอิงตาม \"Catalogue of Life\" ( <a href=\"http://www.catalogueoflife.org/annual-checklist/2010/browse/tree\">http://www.catalogueoflife.org/annual-checklist/2010/browse/tree</a>) โดยมี 7 อาณาจักร คือ Archaea, Bacteria, Animalia, Chromista, Fungi, Plantae และ Protozoa ใน 3 โดเมน (domain)<br/><br/>วิธีการใช้ ดัชนีสิ่งมีชีวิต มีสองรูปแบบ<br/>1. คือกดที่ Folder ทางด้านซ้ายมือไปเรื่อยๆ จนถึงสิ่งมีชีวิตที่คุณต้องการ หรือ<br/>2. ใส่ชื่อ หรือ คำใดๆที่คุณต้องการค้นหา จะเป็น ชื่อไทย ชื่อสามัญ หรือ ชื่อวิทยาศาสตร์ หรือ ข้อความเช่น เฉพาะถิ่นของไทย สัตว์คุ้มครอง ป่าพรุ หรือ ภาคใต้ สิ่งมีชีวิตที่มีคำเหล่านี้อยู่ในเนื้อความก็จะปรากฏขึ้นในกล่องทางด้านขวา (ที่ท่านกำลังอ่านอยู่นี้)\\xa0<br/><br/>แต่ถ้าหากคุณมีภาพสิ่งมีชีวิต แต่ไม่แน่ใจหรือไม่ทราบว่าชื่ออะไร นำภาพไปแปะถามที่ บอร์ดพูดคุย จะง่ายกว่าครับ</p>',\n",
       " '<p class=\"child-help\">*<u>หมายเหตุ</u> เมื่อกดที่รูปภาพ จะไปยังหน้าดัชนีนั้นๆทันที</p>']"
      ]
     },
     "execution_count": 3,
     "metadata": {},
     "output_type": "execute_result"
    }
   ],
   "source": [
    "temp = si_df.description[0]\n",
    "temp"
   ]
  },
  {
   "cell_type": "code",
   "execution_count": 9,
   "metadata": {},
   "outputs": [],
   "source": [
    "def removeDescriptionArtifacts(rawDescriptionList):\n",
    "    def basefunc(rawDescription):\n",
    "        return rawDescription\n",
    "        # remove any html tag\n",
    "        # remove breakline\n",
    "        # remove space after opening bracket\n",
    "        # remove space before closing bracket    \n",
    "        reg = re.sub('&amp;', '&',\n",
    "                re.sub('[ ]+\\)', ')', \n",
    "                re.sub('\\([ ]+', '(', \n",
    "                re.sub('</?[a-z]+( href=\".*\")?( class=\".*\")?( style=\".*\")?( alt=\".*\")?( src=\".*\")?/?>', '', \n",
    "                re.sub('<br/>+', '\\n', rawDescription)\n",
    "              ))))\n",
    "        return reg\n",
    "    \n",
    "    return '\\n'.join(list(map(basefunc, rawDescriptionList)))"
   ]
  },
  {
   "cell_type": "code",
   "execution_count": null,
   "metadata": {},
   "outputs": [],
   "source": []
  },
  {
   "cell_type": "code",
   "execution_count": 10,
   "metadata": {},
   "outputs": [
    {
     "name": "stdout",
     "output_type": "stream",
     "text": [
      "<p>Life taxonomy ของเรา อ้างอิงตาม \"Catalogue of Life\" ( <a href=\"http://www.catalogueoflife.org/annual-checklist/2010/browse/tree\">http://www.catalogueoflife.org/annual-checklist/2010/browse/tree</a>) โดยมี 7 อาณาจักร คือ Archaea, Bacteria, Animalia, Chromista, Fungi, Plantae และ Protozoa ใน 3 โดเมน (domain)<br/><br/>วิธีการใช้ ดัชนีสิ่งมีชีวิต มีสองรูปแบบ<br/>1. คือกดที่ Folder ทางด้านซ้ายมือไปเรื่อยๆ จนถึงสิ่งมีชีวิตที่คุณต้องการ หรือ<br/>2. ใส่ชื่อ หรือ คำใดๆที่คุณต้องการค้นหา จะเป็น ชื่อไทย ชื่อสามัญ หรือ ชื่อวิทยาศาสตร์ หรือ ข้อความเช่น เฉพาะถิ่นของไทย สัตว์คุ้มครอง ป่าพรุ หรือ ภาคใต้ สิ่งมีชีวิตที่มีคำเหล่านี้อยู่ในเนื้อความก็จะปรากฏขึ้นในกล่องทางด้านขวา (ที่ท่านกำลังอ่านอยู่นี้) <br/><br/>แต่ถ้าหากคุณมีภาพสิ่งมีชีวิต แต่ไม่แน่ใจหรือไม่ทราบว่าชื่ออะไร นำภาพไปแปะถามที่ บอร์ดพูดคุย จะง่ายกว่าครับ</p>\n",
      "<p class=\"child-help\">*<u>หมายเหตุ</u> เมื่อกดที่รูปภาพ จะไปยังหน้าดัชนีนั้นๆทันที</p>\n",
      "----\n",
      "<p>โดนเมนอาร์เคีย (archaebacteria)</p>\n",
      "----\n",
      "<p class=\"child-help\">*<u>หมายเหตุ</u> เมื่อกดที่รูปภาพ จะไปยังหน้าดัชนีนั้นๆทันที</p>\n",
      "----\n",
      "<p class=\"child-help\">*<u>หมายเหตุ</u> เมื่อกดที่รูปภาพ จะไปยังหน้าดัชนีนั้นๆทันที</p>\n",
      "----\n",
      "<p><span style=\"font-size:14px;\"><strong>ชื่อไทย</strong>: <br/><strong>ชื่อวิทยาศาสตร์</strong>: <em>Tosena paviei</em> (Noualhier, 1896)<br/><strong>ข้อมูลทั่วไป</strong>: <br/><strong>การกระจายพันธุ์</strong>: พบในประเทศลาว กัมพูชา และไทย ในไทยจะพบในภาคเหนือ</span></p>\n",
      "----\n",
      "<p class=\"child-help\">*<u>หมายเหตุ</u> เมื่อกดที่รูปภาพ จะไปยังหน้าดัชนีนั้นๆทันที</p>\n",
      "----\n",
      "<p class=\"child-help\">*<u>หมายเหตุ</u> เมื่อกดที่รูปภาพ จะไปยังหน้าดัชนีนั้นๆทันที</p>\n",
      "----\n",
      "<p class=\"child-help\">*<u>หมายเหตุ</u> เมื่อกดที่รูปภาพ จะไปยังหน้าดัชนีนั้นๆทันที</p>\n",
      "----\n",
      "<p class=\"child-help\">*<u>หมายเหตุ</u> เมื่อกดที่รูปภาพ จะไปยังหน้าดัชนีนั้นๆทันที</p>\n",
      "----\n",
      "<p class=\"child-help\">*<u>หมายเหตุ</u> เมื่อกดที่รูปภาพ จะไปยังหน้าดัชนีนั้นๆทันที</p>\n",
      "----\n",
      "<p>ชื่อไทย:<br/>ชื่อสามัญ:<br/>ชื่อวิทยาศาสตร์: <em>Aphaena discolor</em> (Guerin-Meneville, 1834)<br/>ลักษณะเด่น:<br/>เขตแพร่กระจาย:</p>\n",
      "----\n",
      "<p class=\"child-help\">*<u>หมายเหตุ</u> เมื่อกดที่รูปภาพ จะไปยังหน้าดัชนีนั้นๆทันที</p>\n",
      "----\n",
      "<p><em>Kalidasa nigromaculata</em> (Gray,1832)</p>\n",
      "----\n",
      "<p class=\"child-help\">*<u>หมายเหตุ</u> เมื่อกดที่รูปภาพ จะไปยังหน้าดัชนีนั้นๆทันที</p>\n",
      "----\n",
      "<p>Species: Penthicodes (Ereosoma) atomaria (Weber, 1801)</p>\n",
      "----\n",
      "<p><span class=\"image-caption-container\"><img alt=\"\" src=\"http://www.siamensis.org/sites/default/files/a2.jpg\"/></span></p>\n",
      "<p><em>Penthicodes (Ereosoma) pulchella </em>(Guerin &amp; Meneville, 1838)</p>\n",
      "----\n",
      "<p><img alt=\"\" src=\"http://www.siamensis.org/sites/default/files/jj4_0.jpg?1285299801\" style=\"width: 510px; height: 340px;\"/></p>\n",
      "<p><em>Penthicodes (Ereosoma) variegata</em> (Guerin &amp; Meneville, 1829)</p>\n",
      "----\n",
      "<p><em>Penthicodes (Penthicodes) bimaculata</em> (Schmidt,1905)</p>\n",
      "----\n",
      "<p class=\"child-help\">*<u>หมายเหตุ</u> เมื่อกดที่รูปภาพ จะไปยังหน้าดัชนีนั้นๆทันที</p>\n",
      "----\n",
      "<p><span style=\"font-size:14px;\"><strong>ชื่อไทย</strong>: <br/><strong>ชื่อวิทยาศาสตร์</strong>: <em>Polydictya tricolor</em> (Westwood, 1845)<br/><strong>ข้อมูลทั่วไป</strong>: <br/><strong>การกระจายพันธุ์</strong>: </span></p>\n",
      "----\n",
      "<p class=\"child-help\">*<u>หมายเหตุ</u> เมื่อกดที่รูปภาพ จะไปยังหน้าดัชนีนั้นๆทันที</p>\n",
      "----\n",
      "<p class=\"child-help\">*<u>หมายเหตุ</u> เมื่อกดที่รูปภาพ จะไปยังหน้าดัชนีนั้นๆทันที</p>\n",
      "----\n",
      "<p class=\"child-help\">*<u>หมายเหตุ</u> เมื่อกดที่รูปภาพ จะไปยังหน้าดัชนีนั้นๆทันที</p>\n",
      "----\n",
      "<p><span style=\"font-size:14px;\"><strong>ชื่อไทย</strong>: <br/><strong>ชื่อวิทยาศาสตร์</strong>: <em>Pyrops altroalbus </em>(Distant, 1918)<br/><strong>ข้อมูลทั่วไป</strong>: <br/><strong>การแพร่กระจายพันธุ์</strong>: พบในประเทศไทย ลาว และเวียดนาม ในประเทศไทย พบได้ในภาคเหนือ (เชียงใหม่)</span></p>\n",
      "----\n",
      "<p><img alt=\"\" src=\"http://www.siamensis.org/sites/default/files/a2_1.jpg?1285577594\"/></p>\n",
      "<p>ชื่อวิทยาศาสตร์:<em> Pyrops candelaria</em> (Linnaeus, 1848)<br/> ชื่อสามัญ:จั๊กจั่นงวงแดง</p>\n",
      "----\n",
      "<p><em> Pyrops ducalis</em> (Stal, 1863)</p>\n",
      "----\n",
      "<p><strong style=\"color: rgb(102, 102, 102); font-family: Verdana, Geneva, 'DejaVu Sans', sans-serif; background-color: rgb(255, 255, 255);\">ชื่อไทย</strong><span style=\"font-family: Verdana, Geneva, 'DejaVu Sans', sans-serif; background-color: rgb(255, 255, 255);\">: </span><br style=\"color: rgb(102, 102, 102); font-family: Verdana, Geneva, 'DejaVu Sans', sans-serif; background-color: rgb(255, 255, 255);\"/><strong style=\"color: rgb(102, 102, 102); font-family: Verdana, Geneva, 'DejaVu Sans', sans-serif; background-color: rgb(255, 255, 255);\">ชื่อวิทยาศาสตร์</strong><span style=\"font-family: Verdana, Geneva, 'DejaVu Sans', sans-serif; background-color: rgb(255, 255, 255);\">: <em>Pyrops lathburii</em> (Kirby, 1818)</span><br style=\"color: rgb(102, 102, 102); font-family: Verdana, Geneva, 'DejaVu Sans', sans-serif; background-color: rgb(255, 255, 255);\"/><strong>ชื่อพ้อง</strong>: <em>Pyrops astarte</em> (Distant, 1914)<br/><strong style=\"line-height: 1.5; font-family: 'lucida grande', tahoma, verdana, arial, sans-serif;\">ข้อมูลทั่วไป</strong><span style=\"line-height: 1.5; font-family: 'lucida grande', tahoma, verdana, arial, sans-serif; background-color: rgb(255, 255, 255);\">: </span><br/><strong style=\"line-height: 1.5; font-family: 'lucida grande', tahoma, verdana, arial, sans-serif;\">การแพร่กระจาย</strong><span style=\"line-height: 1.5; font-family: 'lucida grande', tahoma, verdana, arial, sans-serif; background-color: rgb(255, 255, 255);\">: </span></p>\n",
      "----\n",
      "<p><span class=\"image-caption-container\"><img alt=\"ขออนุญาติพี่ Hoya นะครับ\" class=\"caption imagecache imagecache-webboard_preview\" height=\"340\" src=\"../../sites/default/files/imagecache/webboard_preview/jj15.jpg\" title=\"ขออนุญาติพี่ Hoya นะครับ\" width=\"510\"/></span></p>\n",
      "<p><img alt=\"\" src=\"http://www.siamensis.org/sites/default/files/imagecache/webboard_preview/jj23.jpg\"/></p>\n",
      "<p><img alt=\"\" src=\"file:///C:/DOCUME%7E1/COM_6/LOCALS%7E1/Temp/moz-screenshot-2.png\"/></p>\n",
      "<p><img alt=\"\" src=\"file:///C:/DOCUME%7E1/COM_6/LOCALS%7E1/Temp/moz-screenshot-1.png\"/></p>\n",
      "<p><em>Pyrops oculata </em>(Westwood, 1839)</p>\n",
      "----\n",
      "<p class=\"child-help\">*<u>หมายเหตุ</u> เมื่อกดที่รูปภาพ จะไปยังหน้าดัชนีนั้นๆทันที</p>\n",
      "----\n",
      "<p><strong>ชือไทย:</strong></p>\n",
      "<p><strong>ชื่อสามัญ:</strong></p>\n",
      "<p><strong>ชื่อวิทยาศาสตร์: </strong><em>Pyrops pyrorhynchus </em>(Donovan, 1800)</p>\n",
      "<p><strong>ขนาด:</strong></p>\n",
      "<p><strong>ลักษณะเด่น:</strong></p>\n",
      "<p><strong>เขตกระจายพันธุ์:</strong></p>\n",
      "----\n",
      "<p><em>Pyrops spinolae </em>(Westwood, 1842)</p>\n",
      "----\n",
      "<p><img alt=\"\" src=\"http://www.siamensis.org/sites/default/files/imagecache/webboard_preview/jj20.jpg\"/></p>\n",
      "<p><em>Pyrops viridirostris</em> (Westwood, 1848)</p>\n",
      "----\n",
      "<p class=\"child-help\">*<u>หมายเหตุ</u> เมื่อกดที่รูปภาพ จะไปยังหน้าดัชนีนั้นๆทันที</p>\n",
      "----\n",
      "<p><em>Saiva cultellata</em> (Walker, 1857)</p>\n",
      "----\n",
      "<p><em>Saiva gemmata </em>(Westwood, 1848)</p>\n",
      "----\n",
      "<p><span style=\"font-size:14px;\"><strong>ชื่อไทย</strong>: <br/><strong>ชื่อวิทยาศาสตร์</strong>: <span style=\"font-family: 'lucida grande', tahoma, verdana, arial, sans-serif; text-align: left; background-color: rgb(255, 255, 255); \"><em>Saiva itoi </em>(Sato &amp; Nagai, 1994)<br/><strong>ข้อมูลทั่วไป</strong>: <br/><strong>การแพร่กระจาย</strong>: </span></span></p>\n",
      "----\n",
      "<p class=\"child-help\">*<u>หมายเหตุ</u> เมื่อกดที่รูปภาพ จะไปยังหน้าดัชนีนั้นๆทันที</p>\n",
      "----\n",
      "<p class=\"child-help\">*<u>หมายเหตุ</u> เมื่อกดที่รูปภาพ จะไปยังหน้าดัชนีนั้นๆทันที</p>\n",
      "----\n",
      "<p><em>Zanna dohrni</em> (Stal, 1858)</p>\n",
      "----\n",
      "<p><em>Zanna nobilis </em>(Westwood, 1839)</p>\n",
      "----\n",
      "<p class=\"child-help\">*<u>หมายเหตุ</u> เมื่อกดที่รูปภาพ จะไปยังหน้าดัชนีนั้นๆทันที</p>\n",
      "----\n",
      "<p class=\"child-help\">*<u>หมายเหตุ</u> เมื่อกดที่รูปภาพ จะไปยังหน้าดัชนีนั้นๆทันที</p>\n",
      "----\n",
      "<p class=\"child-help\">*<u>หมายเหตุ</u> เมื่อกดที่รูปภาพ จะไปยังหน้าดัชนีนั้นๆทันที</p>\n",
      "----\n",
      "<p class=\"child-help\">*<u>หมายเหตุ</u> เมื่อกดที่รูปภาพ จะไปยังหน้าดัชนีนั้นๆทันที</p>\n",
      "----\n",
      "<p class=\"child-help\">*<u>หมายเหตุ</u> เมื่อกดที่รูปภาพ จะไปยังหน้าดัชนีนั้นๆทันที</p>\n",
      "----\n"
     ]
    }
   ],
   "source": [
    "for i in si_df.description[0:100]:\n",
    "    if i:\n",
    "        print(removeDescriptionArtifacts(i))\n",
    "        print('----')"
   ]
  },
  {
   "cell_type": "code",
   "execution_count": null,
   "metadata": {},
   "outputs": [],
   "source": []
  }
 ],
 "metadata": {
  "kernelspec": {
   "display_name": "Python 3",
   "language": "python",
   "name": "python3"
  },
  "language_info": {
   "codemirror_mode": {
    "name": "ipython",
    "version": 3
   },
   "file_extension": ".py",
   "mimetype": "text/x-python",
   "name": "python",
   "nbconvert_exporter": "python",
   "pygments_lexer": "ipython3",
   "version": "3.6.2"
  }
 },
 "nbformat": 4,
 "nbformat_minor": 2
}
