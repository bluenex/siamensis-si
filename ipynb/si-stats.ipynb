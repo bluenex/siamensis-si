{
 "cells": [
  {
   "cell_type": "code",
   "execution_count": null,
   "metadata": {
    "collapsed": true
   },
   "outputs": [],
   "source": [
    "import numpy as np\n",
    "import pandas as pd\n",
    "import matplotlib.pyplot as plt\n",
    "from os import pardir, path\n",
    "import re"
   ]
  },
  {
   "cell_type": "code",
   "execution_count": null,
   "metadata": {
    "collapsed": true
   },
   "outputs": [],
   "source": [
    "si_df = pd.read_json(path.join(pardir, 'full_si_data.json'))"
   ]
  },
  {
   "cell_type": "code",
   "execution_count": null,
   "metadata": {},
   "outputs": [],
   "source": [
    "temp = si_df.description[0]\n",
    "temp"
   ]
  },
  {
   "cell_type": "code",
   "execution_count": null,
   "metadata": {},
   "outputs": [],
   "source": [
    "def removeDescriptionArtifacts(rawDescriptionList):\n",
    "    def basefunc(rawDescription):\n",
    "        # remove any html tag\n",
    "        # remove breakline\n",
    "        # remove space after opening bracket\n",
    "        # remove space before closing bracket    \n",
    "        reg = re.sub('&amp;', '&',\n",
    "                re.sub('[ ]+\\)', ')', \n",
    "                re.sub('\\([ ]+', '(', \n",
    "                re.sub('</?[a-z]+( href=\".*\")?( class=\".*\")?( style=\".*\")?( alt=\".*\")?( src=\".*\")?/?>', '', \n",
    "                re.sub('<br/>+', '\\n', rawDescription)\n",
    "              ))))\n",
    "        return reg\n",
    "    \n",
    "    return '\\n'.join(list(map(basefunc, rawDescriptionList)))"
   ]
  },
  {
   "cell_type": "code",
   "execution_count": null,
   "metadata": {},
   "outputs": [],
   "source": []
  },
  {
   "cell_type": "code",
   "execution_count": null,
   "metadata": {},
   "outputs": [],
   "source": [
    "for i in si_df.description:\n",
    "    if i:\n",
    "        print(removeDescriptionArtifacts(i))\n",
    "        print('----')"
   ]
  }
 ],
 "metadata": {
  "kernelspec": {
   "display_name": "Python 3",
   "language": "python",
   "name": "python3"
  },
  "language_info": {
   "codemirror_mode": {
    "name": "ipython",
    "version": 3
   },
   "file_extension": ".py",
   "mimetype": "text/x-python",
   "name": "python",
   "nbconvert_exporter": "python",
   "pygments_lexer": "ipython3",
   "version": "3.6.2"
  }
 },
 "nbformat": 4,
 "nbformat_minor": 2
}
