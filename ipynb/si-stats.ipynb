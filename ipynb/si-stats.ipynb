{
 "cells": [
  {
   "cell_type": "code",
   "execution_count": 1,
   "metadata": {},
   "outputs": [],
   "source": [
    "import numpy as np\n",
    "import pandas as pd\n",
    "import matplotlib.pyplot as plt\n",
    "from os import pardir, path\n",
    "import re"
   ]
  },
  {
   "cell_type": "code",
   "execution_count": 2,
   "metadata": {},
   "outputs": [],
   "source": [
    "si_df = pd.read_json(path.join(pardir, 'full_si_data.json'))"
   ]
  },
  {
   "cell_type": "code",
   "execution_count": 3,
   "metadata": {},
   "outputs": [
    {
     "data": {
      "text/plain": [
       "['<p>Life taxonomy ของเรา อ้างอิงตาม \"Catalogue of Life\" ( <a href=\"http://www.catalogueoflife.org/annual-checklist/2010/browse/tree\">http://www.catalogueoflife.org/annual-checklist/2010/browse/tree</a>) โดยมี 7 อาณาจักร คือ Archaea, Bacteria, Animalia, Chromista, Fungi, Plantae และ Protozoa ใน 3 โดเมน (domain)<br/><br/>วิธีการใช้ ดัชนีสิ่งมีชีวิต มีสองรูปแบบ<br/>1. คือกดที่ Folder ทางด้านซ้ายมือไปเรื่อยๆ จนถึงสิ่งมีชีวิตที่คุณต้องการ หรือ<br/>2. ใส่ชื่อ หรือ คำใดๆที่คุณต้องการค้นหา จะเป็น ชื่อไทย ชื่อสามัญ หรือ ชื่อวิทยาศาสตร์ หรือ ข้อความเช่น เฉพาะถิ่นของไทย สัตว์คุ้มครอง ป่าพรุ หรือ ภาคใต้ สิ่งมีชีวิตที่มีคำเหล่านี้อยู่ในเนื้อความก็จะปรากฏขึ้นในกล่องทางด้านขวา (ที่ท่านกำลังอ่านอยู่นี้)\\xa0<br/><br/>แต่ถ้าหากคุณมีภาพสิ่งมีชีวิต แต่ไม่แน่ใจหรือไม่ทราบว่าชื่ออะไร นำภาพไปแปะถามที่ บอร์ดพูดคุย จะง่ายกว่าครับ</p>',\n",
       " '<p class=\"child-help\">*<u>หมายเหตุ</u> เมื่อกดที่รูปภาพ จะไปยังหน้าดัชนีนั้นๆทันที</p>']"
      ]
     },
     "execution_count": 3,
     "metadata": {},
     "output_type": "execute_result"
    }
   ],
   "source": [
    "temp = si_df.description[0]\n",
    "temp"
   ]
  },
  {
   "cell_type": "code",
   "execution_count": 20,
   "metadata": {},
   "outputs": [],
   "source": [
    "def removeDescriptionArtifacts(rawDescriptionList):\n",
    "    def basefunc(rawDescription):\n",
    "        # remove any html tag\n",
    "        # remove breakline\n",
    "        # remove space after opening bracket\n",
    "        # remove space before closing bracket    \n",
    "        reg = re.sub('&amp;', '&',\n",
    "                re.sub('[ ]+\\)', ')', \n",
    "                re.sub('\\([ ]+', '(', \n",
    "                re.sub('</?[a-z]+( href=\".*\")?( class=\".*\")?( style=\".*\")?( alt=\".*\")?( src=\".*\")?/?>', '', \n",
    "                re.sub('<br/>+', '\\n', rawDescription)\n",
    "              ))))\n",
    "        \n",
    "        filtered = filter(lambda x: not re.match(r'^\\s*$', x), reg)\n",
    "        \n",
    "        return list(filtered)\n",
    "    \n",
    "    return '\\n'.join(list(map(basefunc, rawDescriptionList)))"
   ]
  },
  {
   "cell_type": "code",
   "execution_count": null,
   "metadata": {},
   "outputs": [],
   "source": []
  },
  {
   "cell_type": "code",
   "execution_count": 21,
   "metadata": {},
   "outputs": [
    {
     "ename": "TypeError",
     "evalue": "sequence item 0: expected str instance, list found",
     "output_type": "error",
     "traceback": [
      "\u001b[0;31m---------------------------------------------------------------------------\u001b[0m",
      "\u001b[0;31mTypeError\u001b[0m                                 Traceback (most recent call last)",
      "\u001b[0;32m<ipython-input-21-888d44fe2c0b>\u001b[0m in \u001b[0;36m<module>\u001b[0;34m()\u001b[0m\n\u001b[1;32m      1\u001b[0m \u001b[0;32mfor\u001b[0m \u001b[0mi\u001b[0m \u001b[0;32min\u001b[0m \u001b[0msi_df\u001b[0m\u001b[0;34m.\u001b[0m\u001b[0mdescription\u001b[0m\u001b[0;34m:\u001b[0m\u001b[0;34m\u001b[0m\u001b[0m\n\u001b[1;32m      2\u001b[0m     \u001b[0;32mif\u001b[0m \u001b[0mi\u001b[0m\u001b[0;34m:\u001b[0m\u001b[0;34m\u001b[0m\u001b[0m\n\u001b[0;32m----> 3\u001b[0;31m         \u001b[0mprint\u001b[0m\u001b[0;34m(\u001b[0m\u001b[0mremoveDescriptionArtifacts\u001b[0m\u001b[0;34m(\u001b[0m\u001b[0mi\u001b[0m\u001b[0;34m)\u001b[0m\u001b[0;34m)\u001b[0m\u001b[0;34m\u001b[0m\u001b[0m\n\u001b[0m\u001b[1;32m      4\u001b[0m         \u001b[0mprint\u001b[0m\u001b[0;34m(\u001b[0m\u001b[0;34m'----'\u001b[0m\u001b[0;34m)\u001b[0m\u001b[0;34m\u001b[0m\u001b[0m\n",
      "\u001b[0;32m<ipython-input-20-08ffec454956>\u001b[0m in \u001b[0;36mremoveDescriptionArtifacts\u001b[0;34m(rawDescriptionList)\u001b[0m\n\u001b[1;32m     16\u001b[0m         \u001b[0;32mreturn\u001b[0m \u001b[0mlist\u001b[0m\u001b[0;34m(\u001b[0m\u001b[0mfiltered\u001b[0m\u001b[0;34m)\u001b[0m\u001b[0;34m\u001b[0m\u001b[0m\n\u001b[1;32m     17\u001b[0m \u001b[0;34m\u001b[0m\u001b[0m\n\u001b[0;32m---> 18\u001b[0;31m     \u001b[0;32mreturn\u001b[0m \u001b[0;34m'\\n'\u001b[0m\u001b[0;34m.\u001b[0m\u001b[0mjoin\u001b[0m\u001b[0;34m(\u001b[0m\u001b[0mlist\u001b[0m\u001b[0;34m(\u001b[0m\u001b[0mmap\u001b[0m\u001b[0;34m(\u001b[0m\u001b[0mbasefunc\u001b[0m\u001b[0;34m,\u001b[0m \u001b[0mrawDescriptionList\u001b[0m\u001b[0;34m)\u001b[0m\u001b[0;34m)\u001b[0m\u001b[0;34m)\u001b[0m\u001b[0;34m\u001b[0m\u001b[0m\n\u001b[0m",
      "\u001b[0;31mTypeError\u001b[0m: sequence item 0: expected str instance, list found"
     ]
    }
   ],
   "source": [
    "for i in si_df.description:\n",
    "    if i:\n",
    "        print(removeDescriptionArtifacts(i))\n",
    "        print('----')"
   ]
  }
 ],
 "metadata": {
  "kernelspec": {
   "display_name": "Python 3",
   "language": "python",
   "name": "python3"
  },
  "language_info": {
   "codemirror_mode": {
    "name": "ipython",
    "version": 3
   },
   "file_extension": ".py",
   "mimetype": "text/x-python",
   "name": "python",
   "nbconvert_exporter": "python",
   "pygments_lexer": "ipython3",
   "version": "3.6.2"
  }
 },
 "nbformat": 4,
 "nbformat_minor": 2
}
