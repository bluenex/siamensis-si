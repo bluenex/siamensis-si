{
 "cells": [
  {
   "cell_type": "code",
   "execution_count": null,
   "metadata": {
    "collapsed": true
   },
   "outputs": [],
   "source": [
    "import requests\n",
    "import json\n",
    "import re\n",
    "import pandas as pd\n",
    "from bs4 import BeautifulSoup"
   ]
  },
  {
   "cell_type": "code",
   "execution_count": null,
   "metadata": {},
   "outputs": [],
   "source": [
    "# get whole tree from endpoint\n",
    "r = requests.get('http://www.siamensis.org/json?type=tree')\n",
    "# get json from request\n",
    "si_list = r.json()[0][0]\n",
    "# show keys of json obj\n",
    "si_list.keys()"
   ]
  },
  {
   "cell_type": "code",
   "execution_count": null,
   "metadata": {
    "collapsed": true
   },
   "outputs": [],
   "source": [
    "# a function to strip html tag from string\n",
    "# this also remove number of children in parentheses\n",
    "# and also remove space in front of : of species level\n",
    "def rmHTMLTag(string):\n",
    "    return re.sub(r'\\s+:', ':', re.sub(r'\\s*?\\([0-9]+\\)', '', re.sub(r'<[/\\sa-zA-Z\\\"=-]+>\\s?', '', string)))\n",
    "\n",
    "# a function to scrape data of each node\n",
    "def getNodeData(node_id, new_id):\n",
    "    # make request\n",
    "    cont = requests.get('http://www.siamensis.org/species_index/node/{0}'.format(node_id))\n",
    "    soup = BeautifulSoup(cont.text, 'html.parser')\n",
    "\n",
    "    # retrieving data\n",
    "    title = str(soup.h2.text)\n",
    "    header_img = None if soup.find_all('img', 'imagecache-jstree_header') == [] else soup.find_all('img', 'imagecache-jstree_header')[0]['src']\n",
    "    description = [str(i) for i in soup.find_all('p')]\n",
    "    all_imgs = [img.get('src') for img in soup.find_all(True) \n",
    "                if img.has_attr('src') and 'jstree_header' not in img.get('src')]\n",
    "    author = [re.sub(r'Authenticated user |\\s+$', '', i.get_text()) for i in soup.find_all('div') \n",
    "              if i.has_attr('class') and 'node-submitted' in i.get('class')][0]\n",
    "    editors = [re.sub(r'\\s+', ' ', i.get_text()) for i in soup.ul.find_all('li')]\n",
    "\n",
    "    # pack in dict\n",
    "    data = {\n",
    "        'id': new_id,\n",
    "        'title': title,\n",
    "        'header_img': header_img,\n",
    "        'description': description,\n",
    "        'all_imgs': all_imgs,\n",
    "        'author': author,\n",
    "        'editors': editors,\n",
    "    }\n",
    "    \n",
    "    return data\n",
    "\n",
    "# this function prints out each item with space prepended\n",
    "def printDataDown(jsonObj, higher_order, parent_id, my_id):\n",
    "    prefix = '' + higher_order\n",
    "    itemId = jsonObj['attr']['link'].split('/')[-1]\n",
    "    tmp = rmHTMLTag(jsonObj['data'])\n",
    "    # {0}: prefix space\n",
    "    # {1}: data\n",
    "    # {2}: old id\n",
    "    # {3}: new id\n",
    "    this_new_id = \"{0}-{1}{2}\".format(parent_id, tmp[0], my_id)\n",
    "    # remote - if it is the first string\n",
    "    this_new_id = re.sub(r'^-', '', this_new_id)\n",
    "    print(\"{0}{1}, id {2}, new id {3}\"\n",
    "          .format(prefix, tmp, itemId, this_new_id))\n",
    "#     return getNodeData(int(itemId), this_new_id)\n",
    "    # if there is children, pass function into each children, with their id\n",
    "    if 'num_children' in jsonObj:\n",
    "        tmpId = 0\n",
    "        for obj in jsonObj['children']:\n",
    "            printDataDown(obj, ' '+prefix, this_new_id, tmpId)\n",
    "            tmpId += 1\n",
    "            "
   ]
  },
  {
   "cell_type": "code",
   "execution_count": null,
   "metadata": {},
   "outputs": [],
   "source": [
    "printDataDown(si_list, '', '', '0')"
   ]
  },
  {
   "cell_type": "code",
   "execution_count": null,
   "metadata": {
    "collapsed": true
   },
   "outputs": [],
   "source": []
  },
  {
   "cell_type": "code",
   "execution_count": null,
   "metadata": {
    "collapsed": true
   },
   "outputs": [],
   "source": []
  },
  {
   "cell_type": "code",
   "execution_count": null,
   "metadata": {},
   "outputs": [],
   "source": []
  },
  {
   "cell_type": "code",
   "execution_count": null,
   "metadata": {
    "collapsed": true
   },
   "outputs": [],
   "source": []
  },
  {
   "cell_type": "code",
   "execution_count": null,
   "metadata": {
    "collapsed": true
   },
   "outputs": [],
   "source": []
  }
 ],
 "metadata": {
  "kernelspec": {
   "display_name": "Python 3",
   "language": "python",
   "name": "python3"
  },
  "language_info": {
   "codemirror_mode": {
    "name": "ipython",
    "version": 3
   },
   "file_extension": ".py",
   "mimetype": "text/x-python",
   "name": "python",
   "nbconvert_exporter": "python",
   "pygments_lexer": "ipython3",
   "version": "3.6.2"
  }
 },
 "nbformat": 4,
 "nbformat_minor": 2
}
